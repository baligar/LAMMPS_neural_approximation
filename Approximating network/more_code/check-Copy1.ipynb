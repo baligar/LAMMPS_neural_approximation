{
 "cells": [
  {
   "cell_type": "code",
   "execution_count": 1,
   "metadata": {},
   "outputs": [],
   "source": [
    "\n",
    "# To support both python 2 and python 3\n",
    "from __future__ import division, print_function, unicode_literals\n",
    "\n",
    "from __future__ import absolute_import\n",
    "from __future__ import division\n",
    "from __future__ import print_function\n",
    "from tensorflow.python.tools import freeze_graph\n",
    "\n",
    "\n",
    "import tensorflow as tf\n",
    "import numpy as np\n",
    "import random, os, shutil\n",
    "# Common imports\n",
    "import numpy as np\n",
    "import os\n",
    "import tensorflow as tf\n",
    "import numpy as np\n",
    "import os\n",
    "\n",
    "# to make this notebook's output stable across runs\n",
    "def reset_graph(seed=42):\n",
    "    tf.reset_default_graph()\n",
    "    tf.set_random_seed(seed)\n",
    "    np.random.seed(seed)\n",
    "\n",
    "# To plot pretty figures\n",
    "%matplotlib inline\n",
    "import matplotlib\n",
    "import matplotlib.pyplot as plt\n",
    "plt.rcParams['axes.labelsize'] = 14\n",
    "plt.rcParams['xtick.labelsize'] = 12\n",
    "plt.rcParams['ytick.labelsize'] = 12\n",
    "\n",
    "# Where to save the figures\n",
    "PROJECT_ROOT_DIR = \".\"\n",
    "CHAPTER_ID = \"deep\"\n",
    "\n",
    "def save_fig(fig_id, tight_layout=True):\n",
    "    path = os.path.join(PROJECT_ROOT_DIR, \"images\", CHAPTER_ID, fig_id + \".png\")\n",
    "    print(\"Saving figure\", fig_id)\n",
    "    if tight_layout:\n",
    "        plt.tight_layout()\n",
    "    plt.savefig(path, format='png', dpi=300)"
   ]
  },
  {
   "cell_type": "code",
   "execution_count": 2,
   "metadata": {},
   "outputs": [
    {
     "name": "stdout",
     "output_type": "stream",
     "text": [
      "40\n",
      "INFO:tensorflow:Restoring parameters from SaveFiles/model.ckpt\n",
      "INFO:tensorflow:Froze 1 variables.\n",
      "Converted 1 variables to const ops.\n"
     ]
    }
   ],
   "source": [
    "reset_graph()\n",
    "\n",
    "x = tf.Variable(35, name='x')\n",
    "\n",
    "y = tf.Variable(x + 5, name='y')\n",
    "\n",
    "\n",
    "if os.path.exists(\"SaveFiles\"):\n",
    "    shutil.rmtree(\"SaveFiles\")\n",
    "#initialize Variables and start session\n",
    "summary = tf.summary.merge_all()\n",
    "init = tf.global_variables_initializer()\n",
    "saver = tf.train.Saver()\n",
    "sess = tf.Session()\n",
    "summary_writer = tf.summary.FileWriter(\"SaveFiles\", graph=tf.get_default_graph())\n",
    "\n",
    "#export Graph\n",
    "tf.train.write_graph(sess.graph_def, \"SaveFiles\", \"Graph.pb\")\n",
    "    \n",
    "with tf.Session() as sess:\n",
    "    sess.run(init)\n",
    "    print(sess.run(y))\n",
    "    checkpoint_file = os.path.join(\"SaveFiles\", 'model.ckpt')\n",
    "    saver.save(sess, checkpoint_file)\n",
    "    \n",
    "\n",
    "# Freeze the graph\n",
    "checkpoint_state_name = \"checkpoint\"\n",
    "input_graph_name = \"SaveFiles/Graph.pb\"\n",
    "output_graph_name = \"SaveFiles/frozen_graph.pb\"\n",
    "input_saver_def_path = \"\"\n",
    "input_binary = False\n",
    "input_checkpoint_path = \"SaveFiles/model.ckpt\"\n",
    "output_node_names = \"y\" \n",
    "restore_op_name = \"save/restore_all\"\n",
    "filename_tensor_name = \"save/Const:0\"\n",
    "clear_devices = False\n",
    "\n",
    "freeze_graph.freeze_graph(input_graph_name, input_saver_def_path,\n",
    "                          input_binary, input_checkpoint_path,\n",
    "                          output_node_names, restore_op_name,\n",
    "                          filename_tensor_name, output_graph_name,\n",
    "                          clear_devices,\"\")    "
   ]
  },
  {
   "cell_type": "code",
   "execution_count": null,
   "metadata": {},
   "outputs": [],
   "source": []
  }
 ],
 "metadata": {
  "kernelspec": {
   "display_name": "Python 3",
   "language": "python",
   "name": "python3"
  },
  "language_info": {
   "codemirror_mode": {
    "name": "ipython",
    "version": 3
   },
   "file_extension": ".py",
   "mimetype": "text/x-python",
   "name": "python",
   "nbconvert_exporter": "python",
   "pygments_lexer": "ipython3",
   "version": "3.5.2"
  }
 },
 "nbformat": 4,
 "nbformat_minor": 2
}
